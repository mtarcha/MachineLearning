{
 "cells": [
  {
   "cell_type": "markdown",
   "metadata": {},
   "source": [
    "Vector multiplication (dot product)"
   ]
  },
  {
   "cell_type": "code",
   "execution_count": 1,
   "metadata": {},
   "outputs": [],
   "source": [
    "import numpy as np"
   ]
  },
  {
   "cell_type": "code",
   "execution_count": 23,
   "metadata": {},
   "outputs": [],
   "source": [
    "def multiply_vectors(u: np.ndarray, v: np.ndarray): # type is not enforced and no worning if it is wrong\n",
    "    assert u.shape == v.shape\n",
    "\n",
    "    n = u.shape[0]\n",
    "    dotProduct = 0\n",
    "    for i in range(n):\n",
    "        dotProduct = dotProduct + u[i] * v[i]\n",
    "\n",
    "    return dotProduct"
   ]
  },
  {
   "cell_type": "code",
   "execution_count": 33,
   "metadata": {},
   "outputs": [],
   "source": [
    "a = np.full(5, 2)\n",
    "b = np.full(5, 3)\n",
    "myDotProduct = multiply_vectors(a, b)\n",
    "npDotProduct = np.dot(a, b)\n",
    "assert myDotProduct == npDotProduct == 30"
   ]
  },
  {
   "cell_type": "code",
   "execution_count": 34,
   "metadata": {},
   "outputs": [],
   "source": [
    "def multiply_matrix_vector(U, v):\n",
    "    assert U.shape[1] == v.shape[0]\n",
    "\n",
    "    nRows = U.shape[0]\n",
    "    result = np.zeros(nRows)\n",
    "\n",
    "    for i in range(nRows):\n",
    "        result[i] = multiply_vectors(U[i], v)\n",
    "\n",
    "    return result"
   ]
  },
  {
   "cell_type": "code",
   "execution_count": 38,
   "metadata": {},
   "outputs": [
    {
     "data": {
      "text/plain": [
       "array([[2, 2, 2, 2, 2],\n",
       "       [2, 2, 2, 2, 2],\n",
       "       [2, 2, 2, 2, 2]])"
      ]
     },
     "execution_count": 38,
     "metadata": {},
     "output_type": "execute_result"
    }
   ],
   "source": [
    "A = np.full((3, 5), 2)\n",
    "b = np.full(5, 3)\n",
    "myDotProduct = multiply_matrix_vector(A, b)\n",
    "npDotProduct = np.dot(A, b)\n",
    "assert (myDotProduct == npDotProduct).all()\n",
    "myDotProduct\n",
    "A"
   ]
  },
  {
   "cell_type": "code",
   "execution_count": 53,
   "metadata": {},
   "outputs": [],
   "source": [
    "def multiply_matrices(U, V):\n",
    "    assert U.shape[1] == V.shape[0]\n",
    "\n",
    "    nRows = U.shape[0]\n",
    "    nCols = V.shape[1]\n",
    "\n",
    "    result = np.zeros((nRows, nCols))\n",
    "    for i in range(nCols):\n",
    "        vi = V[:, i]\n",
    "        result[:, i] = multiply_matrix_vector(U, vi)\n",
    "\n",
    "    return result\n"
   ]
  },
  {
   "cell_type": "code",
   "execution_count": 54,
   "metadata": {},
   "outputs": [
    {
     "data": {
      "text/plain": [
       "array([[30., 30.],\n",
       "       [30., 30.],\n",
       "       [30., 30.]])"
      ]
     },
     "execution_count": 54,
     "metadata": {},
     "output_type": "execute_result"
    }
   ],
   "source": [
    "A = np.full((3, 5), 2)\n",
    "B = np.full((5, 2), 3)\n",
    "myDotProduct = multiply_matrices(A, B)\n",
    "npDotProduct = np.dot(A, B)\n",
    "assert (myDotProduct == npDotProduct).all()\n",
    "myDotProduct"
   ]
  }
 ],
 "metadata": {
  "kernelspec": {
   "display_name": "Python 3",
   "language": "python",
   "name": "python3"
  },
  "language_info": {
   "codemirror_mode": {
    "name": "ipython",
    "version": 3
   },
   "file_extension": ".py",
   "mimetype": "text/x-python",
   "name": "python",
   "nbconvert_exporter": "python",
   "pygments_lexer": "ipython3",
   "version": "3.12.0"
  }
 },
 "nbformat": 4,
 "nbformat_minor": 2
}
