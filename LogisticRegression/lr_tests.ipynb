{
 "cells": [
  {
   "cell_type": "code",
   "execution_count": 1,
   "metadata": {},
   "outputs": [],
   "source": [
    "import warnings\n",
    "warnings.filterwarnings(\"ignore\")\n",
    "\n",
    "import os\n",
    "import pandas as pd\n",
    "import numpy as np\n",
    "import matplotlib.pyplot as plt\n",
    "\n",
    "np.random.seed(0)  "
   ]
  },
  {
   "cell_type": "code",
   "execution_count": 4,
   "metadata": {},
   "outputs": [
    {
     "name": "stdout",
     "output_type": "stream",
     "text": [
      "Grid best parameter (max. roc_auc): {'penalty': 'l2'}\n",
      "Grid best score (roc_auc): 0.8300367973991468\n",
      "              precision    recall  f1-score   support\n",
      "\n",
      "       not 1       0.91      0.99      0.95      2076\n",
      "           1       0.65      0.15      0.24       234\n",
      "\n",
      "    accuracy                           0.91      2310\n",
      "   macro avg       0.78      0.57      0.60      2310\n",
      "weighted avg       0.89      0.91      0.88      2310\n",
      "\n"
     ]
    }
   ],
   "source": [
    "from sklearn.linear_model import LogisticRegression\n",
    "from sklearn.model_selection import train_test_split\n",
    "from sklearn.metrics import classification_report\n",
    "from sklearn.preprocessing import MinMaxScaler\n",
    "from sklearn.model_selection import GridSearchCV\n",
    "scaler = MinMaxScaler()\n",
    "\n",
    "train_df = pd.read_csv('assets/train.csv')\n",
    "#test_df = pd.read_csv('assets/test.csv')\n",
    "X = train_df.iloc[:, 0:-1]\n",
    "y = train_df.iloc[:, -1]\n",
    "y_1 = y.astype(int)\n",
    "\n",
    "def training():\n",
    "    X_train, X_test, y_train, y_test = train_test_split(X, y_1, random_state=0)\n",
    "    \n",
    "    lr = LogisticRegression().fit(X_train, y_train)\n",
    "    \n",
    "    #parameters = [{'solver': ['newton-cg', 'lbfgs', 'liblinear', 'sag', 'saga']},\n",
    "              #{'penalty':['none', 'elasticnet', 'l1', 'l2']},\n",
    "              #{'C':[0.001, 0.01, 0.1, 1, 10, 100]}]\n",
    "    \n",
    "    parameters = [{'penalty':['l1', 'l2']},{'C':[0.01,0.1, 10, 100]}]\n",
    "        \n",
    "    grid_search = GridSearchCV(estimator = lr,  \n",
    "                               param_grid = parameters,\n",
    "                               scoring = 'roc_auc')\n",
    "    grid_search.fit(X_train, y_train)   \n",
    "\n",
    "    print('Grid best parameter (max. {0}): {1}'.format('roc_auc', grid_search.best_params_))\n",
    "    print('Grid best score ({0}): {1}'.format('roc_auc', grid_search.best_score_))\n",
    "    \n",
    "    best = grid_search.best_estimator_\n",
    "    predicted = best.predict(X_test)\n",
    "\n",
    "    print(classification_report(y_test, predicted, target_names=['not 1', '1']))\n",
    "    \n",
    "training()"
   ]
  },
  {
   "cell_type": "code",
   "execution_count": 3,
   "metadata": {},
   "outputs": [
    {
     "name": "stdout",
     "output_type": "stream",
     "text": [
      "              precision    recall  f1-score   support\n",
      "\n",
      "       not 1       0.91      0.99      0.95      2076\n",
      "           1       0.58      0.11      0.18       234\n",
      "\n",
      "    accuracy                           0.90      2310\n",
      "   macro avg       0.74      0.55      0.56      2310\n",
      "weighted avg       0.87      0.90      0.87      2310\n",
      "\n"
     ]
    }
   ],
   "source": [
    "def training2():\n",
    "    X_train, X_test, y_train, y_test = train_test_split(X, y_1, random_state=0)\n",
    "    \n",
    "    X_train_scaled = scaler.fit_transform(X_train)\n",
    "    X_test_scaled = scaler.transform(X_test)\n",
    "    lr = LogisticRegression().fit(X_train_scaled, y_train)\n",
    "    predicted = lr.predict(X_test_scaled)\n",
    "    #print(X_train)\n",
    "    print(classification_report(y_test, predicted, target_names=['not 1', '1']))\n",
    "\n",
    "training2()"
   ]
  },
  {
   "cell_type": "code",
   "execution_count": null,
   "metadata": {},
   "outputs": [],
   "source": [
    "def engagement_model():\n",
    "    lr = LogisticRegression().fit(X, y_1)\n",
    "    res = lr.predict_proba(test_df)[:,1]\n",
    "    ser = pd.Series(res, index=test_df.iloc[:, 0])\n",
    "    \n",
    "    return ser"
   ]
  }
 ],
 "metadata": {
  "kernelspec": {
   "display_name": "Python 3",
   "language": "python",
   "name": "python3"
  },
  "language_info": {
   "codemirror_mode": {
    "name": "ipython",
    "version": 3
   },
   "file_extension": ".py",
   "mimetype": "text/x-python",
   "name": "python",
   "nbconvert_exporter": "python",
   "pygments_lexer": "ipython3",
   "version": "3.12.0"
  }
 },
 "nbformat": 4,
 "nbformat_minor": 2
}
